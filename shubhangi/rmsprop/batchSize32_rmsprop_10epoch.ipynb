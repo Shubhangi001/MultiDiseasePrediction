{
  "cells": [
    {
      "cell_type": "code",
      "source": [
        "import os\r\n",
        "import zipfile"
      ],
      "outputs": [],
      "execution_count": 1,
      "metadata": {
        "jupyter": {
          "source_hidden": false,
          "outputs_hidden": false
        },
        "nteract": {
          "transient": {
            "deleting": false
          }
        },
        "gather": {
          "logged": 1680267404771
        }
      }
    },
    {
      "cell_type": "code",
      "source": [
        "# # uncomment if the dataset is not loaded\r\n",
        "# # name of the zip file you want to unzip\r\n",
        "# local_zip = 'image-processing.zip'\r\n",
        "# # opening a file with mode parameter 'r' : read existing file\r\n",
        "# zip_ref = zipfile.ZipFile(local_zip, 'r')\r\n",
        "# # extract all contents of the zip file\r\n",
        "# zip_ref.extractall('')\r\n",
        "# # close the file\r\n",
        "# zip_ref.close()\r\n"
      ],
      "outputs": [],
      "execution_count": 2,
      "metadata": {
        "jupyter": {
          "source_hidden": false,
          "outputs_hidden": false
        },
        "nteract": {
          "transient": {
            "deleting": false
          }
        },
        "gather": {
          "logged": 1680267405121
        }
      }
    },
    {
      "cell_type": "code",
      "source": [
        "import tensorflow"
      ],
      "outputs": [],
      "execution_count": 3,
      "metadata": {
        "jupyter": {
          "source_hidden": false,
          "outputs_hidden": false
        },
        "nteract": {
          "transient": {
            "deleting": false
          }
        },
        "gather": {
          "logged": 1680267426883
        }
      }
    },
    {
      "cell_type": "code",
      "source": [
        "from tensorflow.keras.layers import Input, Lambda, Dense, Flatten,Dropout\r\n",
        "from tensorflow.keras.models import Model\r\n",
        "from tensorflow.keras.applications.vgg19 import VGG19\r\n",
        "from tensorflow.keras.applications.vgg19 import preprocess_input\r\n",
        "from tensorflow.keras.preprocessing import image\r\n",
        "from tensorflow.keras.preprocessing.image import ImageDataGenerator\r\n",
        "from tensorflow.keras.models import Sequential\r\n",
        "import numpy as np\r\n",
        "import pandas as pd\r\n",
        "import os\r\n",
        "import cv2\r\n",
        "import matplotlib.pyplot as plt\r\n",
        "import gc"
      ],
      "outputs": [],
      "execution_count": 4,
      "metadata": {
        "jupyter": {
          "source_hidden": false,
          "outputs_hidden": false
        },
        "nteract": {
          "transient": {
            "deleting": false
          }
        },
        "gather": {
          "logged": 1680267429717
        }
      }
    },
    {
      "cell_type": "code",
      "source": [
        "import os\r\n",
        "os.listdir()\r\n"
      ],
      "outputs": [
        {
          "output_type": "execute_result",
          "execution_count": 5,
          "data": {
            "text/plain": "['.amlignore',\n '.amlignore.amltmp',\n '.ipynb_aml_checkpoints',\n 'cardiomegaly.png',\n 'image-processing.zip',\n 'MultiDiseasePrediction.html',\n 'multidiseaseprediction.html.amltmp',\n 'MultiDiseasePrediction.ipynb',\n 'multidiseaseprediction.ipynb.amltmp',\n 'test-20230326T155708Z-001',\n 'train-20230326T152931Z-001',\n 'val-20230326T152503Z-001',\n 'vgg-acc-md-1.png',\n 'vgg-loss-md-1.png']"
          },
          "metadata": {}
        }
      ],
      "execution_count": 5,
      "metadata": {
        "jupyter": {
          "source_hidden": false,
          "outputs_hidden": false
        },
        "nteract": {
          "transient": {
            "deleting": false
          }
        },
        "gather": {
          "logged": 1680267430010
        }
      }
    },
    {
      "cell_type": "code",
      "source": [
        "test_path=\"test-20230326T155708Z-001/test\"\r\n",
        "train_path=\"train-20230326T152931Z-001/train\"\r\n",
        "val_path=\"val-20230326T152503Z-001/val\""
      ],
      "outputs": [],
      "execution_count": 6,
      "metadata": {
        "jupyter": {
          "source_hidden": false,
          "outputs_hidden": false
        },
        "nteract": {
          "transient": {
            "deleting": false
          }
        },
        "gather": {
          "logged": 1680267430512
        }
      }
    },
    {
      "cell_type": "markdown",
      "source": [
        "We will be training a VGG-19 model on our custom training dataset to classify among the six categories - Cardiomegaly, Covid,Normal, Pneumonia, Pneumothorax, Tuberculosis. The pre-trained CNN model inputs a color image of dimensions 224×224 of one of the disease categories. However, all the images of the dataset are of different dimensions. Hence, they must all be resized to the required dimension.\r\n",
        "\r\n"
      ],
      "metadata": {
        "nteract": {
          "transient": {
            "deleting": false
          }
        }
      }
    },
    {
      "cell_type": "code",
      "source": [
        "x_train=[]\r\n",
        "\r\n",
        "for folder in os.listdir(train_path):\r\n",
        "\r\n",
        "    sub_path=train_path+\"/\"+folder\r\n",
        "\r\n",
        "    for img in os.listdir(sub_path):\r\n",
        "\r\n",
        "        image_path=sub_path+\"/\"+img\r\n",
        "\r\n",
        "        img_arr=cv2.imread(image_path)\r\n",
        "\r\n",
        "        img_arr=cv2.resize(img_arr,(224,224))\r\n",
        "\r\n",
        "        x_train.append(img_arr)"
      ],
      "outputs": [],
      "execution_count": 7,
      "metadata": {
        "jupyter": {
          "source_hidden": false,
          "outputs_hidden": false
        },
        "nteract": {
          "transient": {
            "deleting": false
          }
        },
        "gather": {
          "logged": 1680268244923
        }
      }
    },
    {
      "cell_type": "code",
      "source": [
        "x_test=[]\r\n",
        "\r\n",
        "for folder in os.listdir(test_path):\r\n",
        "\r\n",
        "    sub_path=test_path+\"/\"+folder\r\n",
        "\r\n",
        "    for img in os.listdir(sub_path):\r\n",
        "\r\n",
        "        image_path=sub_path+\"/\"+img\r\n",
        "\r\n",
        "        img_arr=cv2.imread(image_path)\r\n",
        "\r\n",
        "        img_arr=cv2.resize(img_arr,(224,224))\r\n",
        "\r\n",
        "        x_test.append(img_arr)\r\n"
      ],
      "outputs": [],
      "execution_count": 8,
      "metadata": {
        "jupyter": {
          "source_hidden": false,
          "outputs_hidden": false
        },
        "nteract": {
          "transient": {
            "deleting": false
          }
        },
        "gather": {
          "logged": 1680268414873
        }
      }
    },
    {
      "cell_type": "code",
      "source": [
        "x_val=[]\r\n",
        "\r\n",
        "for folder in os.listdir(val_path):\r\n",
        "\r\n",
        "    sub_path=val_path+\"/\"+folder\r\n",
        "\r\n",
        "    for img in os.listdir(sub_path):\r\n",
        "\r\n",
        "        image_path=sub_path+\"/\"+img\r\n",
        "\r\n",
        "        img_arr=cv2.imread(image_path)\r\n",
        "\r\n",
        "        img_arr=cv2.resize(img_arr,(224,224))\r\n",
        "\r\n",
        "        x_val.append(img_arr)\r\n"
      ],
      "outputs": [],
      "execution_count": 9,
      "metadata": {
        "jupyter": {
          "source_hidden": false,
          "outputs_hidden": false
        },
        "nteract": {
          "transient": {
            "deleting": false
          }
        },
        "gather": {
          "logged": 1680268591019
        }
      }
    },
    {
      "cell_type": "markdown",
      "source": [
        "Now, x_train,x_test, and x_val must be divided by 255.0 for normalization.\r\n"
      ],
      "metadata": {
        "nteract": {
          "transient": {
            "deleting": false
          }
        }
      }
    },
    {
      "cell_type": "code",
      "source": [
        "train_x=np.array(x_train)\r\n",
        "test_x=np.array(x_test)\r\n",
        "val_x=np.array(x_val)\r\n",
        "train_x=train_x/255.0\r\n",
        "test_x=test_x/255.0\r\n",
        "val_x=val_x/255.0\r\n"
      ],
      "outputs": [],
      "execution_count": 10,
      "metadata": {
        "jupyter": {
          "source_hidden": false,
          "outputs_hidden": false
        },
        "nteract": {
          "transient": {
            "deleting": false
          }
        },
        "gather": {
          "logged": 1680268601977
        }
      }
    },
    {
      "cell_type": "code",
      "source": [
        "def addlabels(x,y):\r\n",
        "    for i in range(len(x)):\r\n",
        "        plt.text(i,y[i],y[i])\r\n",
        "\r\n",
        "x = ['train','test','validation']\r\n",
        "y = [len(train_x),len(test_x),len(val_x)]\r\n",
        "plt.bar(x,y, color ='blue',\r\n",
        "        width = 0.4)\r\n",
        "addlabels(x, y)\r\n",
        "\r\n",
        " \r\n",
        "plt.xlabel(\"Sample folder\")\r\n",
        "plt.ylabel(\"No. of chest xrays\")\r\n",
        "plt.title(\"Split of chest xray images\")\r\n",
        "plt.show()\r\n"
      ],
      "outputs": [
        {
          "output_type": "display_data",
          "data": {
            "text/plain": "<Figure size 640x480 with 1 Axes>",
            "image/png": "[encoded data removed]"
          },
          "metadata": {}
        }
      ],
      "execution_count": 58,
      "metadata": {
        "jupyter": {
          "source_hidden": false,
          "outputs_hidden": false
        },
        "nteract": {
          "transient": {
            "deleting": false
          }
        },
        "gather": {
          "logged": 1680274061779
        }
      }
    },
    {
      "cell_type": "code",
      "source": [],
      "outputs": [],
      "execution_count": null,
      "metadata": {
        "jupyter": {
          "source_hidden": false,
          "outputs_hidden": false
        },
        "nteract": {
          "transient": {
            "deleting": false
          }
        }
      }
    },
    {
      "cell_type": "markdown",
      "source": [
        "Clearing x_train, x_test and x_val to save memory"
      ],
      "metadata": {
        "nteract": {
          "transient": {
            "deleting": false
          }
        }
      }
    },
    {
      "cell_type": "code",
      "source": [
        "del x_train,x_test,x_val\r\n",
        "gc.collect()\r\n"
      ],
      "outputs": [
        {
          "output_type": "execute_result",
          "execution_count": 11,
          "data": {
            "text/plain": "22"
          },
          "metadata": {}
        }
      ],
      "execution_count": 11,
      "metadata": {
        "jupyter": {
          "source_hidden": false,
          "outputs_hidden": false
        },
        "nteract": {
          "transient": {
            "deleting": false
          }
        },
        "gather": {
          "logged": 1680268602640
        }
      }
    },
    {
      "cell_type": "markdown",
      "source": [
        "Now we need to add labels to the images, which are the 5 diseases and a normal class\r\n"
      ],
      "metadata": {
        "nteract": {
          "transient": {
            "deleting": false
          }
        }
      }
    },
    {
      "cell_type": "code",
      "source": [
        "train_datagen = ImageDataGenerator(rescale = 1./255)\r\n",
        "test_datagen = ImageDataGenerator(rescale = 1./255)\r\n",
        "val_datagen = ImageDataGenerator(rescale = 1./255)\r\n",
        "training_set = train_datagen.flow_from_directory(train_path,\r\n",
        "                                                 target_size = (224, 224),\r\n",
        "                                                 batch_size = 32,\r\n",
        "                                                 class_mode = 'sparse')\r\n",
        "test_set = test_datagen.flow_from_directory(test_path,\r\n",
        "                                            target_size = (224, 224),\r\n",
        "                                            batch_size = 32,\r\n",
        "                                            class_mode = 'sparse')\r\n",
        "val_set = val_datagen.flow_from_directory(val_path,\r\n",
        "                                            target_size = (224, 224),\r\n",
        "                                            batch_size = 32,\r\n",
        "                                            class_mode = 'sparse')"
      ],
      "outputs": [
        {
          "output_type": "stream",
          "name": "stdout",
          "text": "Found 9971 images belonging to 6 classes.\nFound 1966 images belonging to 6 classes.\nFound 1962 images belonging to 6 classes.\n"
        }
      ],
      "execution_count": 12,
      "metadata": {
        "jupyter": {
          "source_hidden": false,
          "outputs_hidden": false
        },
        "nteract": {
          "transient": {
            "deleting": false
          }
        },
        "gather": {
          "logged": 1680268603138
        }
      }
    },
    {
      "cell_type": "code",
      "source": [
        "train_y=training_set.classes\r\n",
        "test_y=test_set.classes\r\n",
        "val_y=val_set.classes\r\n",
        "print(train_y,test_y,val_y) "
      ],
      "outputs": [
        {
          "output_type": "stream",
          "name": "stdout",
          "text": "[0 0 0 ... 5 5 5] [0 0 0 ... 5 5 5] [0 0 0 ... 5 5 5]\n"
        }
      ],
      "execution_count": 13,
      "metadata": {
        "jupyter": {
          "source_hidden": false,
          "outputs_hidden": false
        },
        "nteract": {
          "transient": {
            "deleting": false
          }
        },
        "gather": {
          "logged": 1680268603857
        }
      }
    },
    {
      "cell_type": "code",
      "source": [
        "training_set.class_indices\r\n",
        "train_y.shape,test_y.shape,val_y.shape"
      ],
      "outputs": [
        {
          "output_type": "execute_result",
          "execution_count": 14,
          "data": {
            "text/plain": "((9971,), (1966,), (1962,))"
          },
          "metadata": {}
        }
      ],
      "execution_count": 14,
      "metadata": {
        "jupyter": {
          "source_hidden": false,
          "outputs_hidden": false
        },
        "nteract": {
          "transient": {
            "deleting": false
          }
        },
        "gather": {
          "logged": 1680268604541
        }
      }
    },
    {
      "cell_type": "code",
      "source": [
        "del training_set,test_set,val_set\r\n",
        "gc.collect()"
      ],
      "outputs": [
        {
          "output_type": "execute_result",
          "execution_count": 15,
          "data": {
            "text/plain": "0"
          },
          "metadata": {}
        }
      ],
      "execution_count": 15,
      "metadata": {
        "jupyter": {
          "source_hidden": false,
          "outputs_hidden": false
        },
        "nteract": {
          "transient": {
            "deleting": false
          }
        },
        "gather": {
          "logged": 1680268605070
        }
      }
    },
    {
      "cell_type": "code",
      "source": [
        "IMAGE_SIZE  = (224, 224,3)\r\n",
        "vgg = VGG19(input_shape = IMAGE_SIZE ,weights='imagenet', include_top=False)"
      ],
      "outputs": [
        {
          "output_type": "stream",
          "name": "stderr",
          "text": "2023-03-31 13:16:43.186184: I tensorflow/stream_executor/platform/default/dso_loader.cc:44] Successfully opened dynamic library libcuda.so.1\n2023-03-31 13:16:43.355214: I tensorflow/core/common_runtime/gpu/gpu_device.cc:1561] Found device 0 with properties: \npciBusID: 0001:00:00.0 name: Tesla K80 computeCapability: 3.7\ncoreClock: 0.8235GHz coreCount: 13 deviceMemorySize: 11.17GiB deviceMemoryBandwidth: 223.96GiB/s\n2023-03-31 13:16:43.410720: I tensorflow/stream_executor/platform/default/dso_loader.cc:44] Successfully opened dynamic library libcudart.so.10.1\n2023-03-31 13:16:44.147055: I tensorflow/stream_executor/platform/default/dso_loader.cc:44] Successfully opened dynamic library libcublas.so.10\n2023-03-31 13:16:44.429247: I tensorflow/stream_executor/platform/default/dso_loader.cc:44] Successfully opened dynamic library libcufft.so.10\n2023-03-31 13:16:44.582553: I tensorflow/stream_executor/platform/default/dso_loader.cc:44] Successfully opened dynamic library libcurand.so.10\n2023-03-31 13:16:45.089930: I tensorflow/stream_executor/platform/default/dso_loader.cc:44] Successfully opened dynamic library libcusolver.so.10\n2023-03-31 13:16:45.304505: I tensorflow/stream_executor/platform/default/dso_loader.cc:44] Successfully opened dynamic library libcusparse.so.10\n2023-03-31 13:16:46.602378: I tensorflow/stream_executor/platform/default/dso_loader.cc:44] Successfully opened dynamic library libcudnn.so.7\n2023-03-31 13:16:46.604007: I tensorflow/core/common_runtime/gpu/gpu_device.cc:1703] Adding visible gpu devices: 0\n2023-03-31 13:16:46.604708: I tensorflow/core/platform/cpu_feature_guard.cc:143] Your CPU supports instructions that this TensorFlow binary was not compiled to use: AVX2 FMA\n2023-03-31 13:16:46.656556: I tensorflow/core/platform/profile_utils/cpu_utils.cc:102] CPU Frequency: 2596990000 Hz\n2023-03-31 13:16:46.656934: I tensorflow/compiler/xla/service/service.cc:168] XLA service 0x7ff05c000b60 initialized for platform Host (this does not guarantee that XLA will be used). Devices:\n2023-03-31 13:16:46.656955: I tensorflow/compiler/xla/service/service.cc:176]   StreamExecutor device (0): Host, Default Version\n2023-03-31 13:16:46.895330: I tensorflow/compiler/xla/service/service.cc:168] XLA service 0x559c16307660 initialized for platform CUDA (this does not guarantee that XLA will be used). Devices:\n2023-03-31 13:16:46.895361: I tensorflow/compiler/xla/service/service.cc:176]   StreamExecutor device (0): Tesla K80, Compute Capability 3.7\n2023-03-31 13:16:46.950027: I tensorflow/core/common_runtime/gpu/gpu_device.cc:1561] Found device 0 with properties: \npciBusID: 0001:00:00.0 name: Tesla K80 computeCapability: 3.7\ncoreClock: 0.8235GHz coreCount: 13 deviceMemorySize: 11.17GiB deviceMemoryBandwidth: 223.96GiB/s\n2023-03-31 13:16:46.950100: I tensorflow/stream_executor/platform/default/dso_loader.cc:44] Successfully opened dynamic library libcudart.so.10.1\n2023-03-31 13:16:46.950122: I tensorflow/stream_executor/platform/default/dso_loader.cc:44] Successfully opened dynamic library libcublas.so.10\n2023-03-31 13:16:46.950140: I tensorflow/stream_executor/platform/default/dso_loader.cc:44] Successfully opened dynamic library libcufft.so.10\n2023-03-31 13:16:46.950159: I tensorflow/stream_executor/platform/default/dso_loader.cc:44] Successfully opened dynamic library libcurand.so.10\n2023-03-31 13:16:46.950177: I tensorflow/stream_executor/platform/default/dso_loader.cc:44] Successfully opened dynamic library libcusolver.so.10\n2023-03-31 13:16:46.950196: I tensorflow/stream_executor/platform/default/dso_loader.cc:44] Successfully opened dynamic library libcusparse.so.10\n2023-03-31 13:16:46.950215: I tensorflow/stream_executor/platform/default/dso_loader.cc:44] Successfully opened dynamic library libcudnn.so.7\n2023-03-31 13:16:46.951547: I tensorflow/core/common_runtime/gpu/gpu_device.cc:1703] Adding visible gpu devices: 0\n2023-03-31 13:16:46.971865: I tensorflow/stream_executor/platform/default/dso_loader.cc:44] Successfully opened dynamic library libcudart.so.10.1\n2023-03-31 13:16:46.972808: I tensorflow/core/common_runtime/gpu/gpu_device.cc:1102] Device interconnect StreamExecutor with strength 1 edge matrix:\n2023-03-31 13:16:46.972825: I tensorflow/core/common_runtime/gpu/gpu_device.cc:1108]      0 \n2023-03-31 13:16:46.972834: I tensorflow/core/common_runtime/gpu/gpu_device.cc:1121] 0:   N \n2023-03-31 13:16:46.974502: I tensorflow/core/common_runtime/gpu/gpu_device.cc:1247] Created TensorFlow device (/job:localhost/replica:0/task:0/device:GPU:0 with 10699 MB memory) -> physical GPU (device: 0, name: Tesla K80, pci bus id: 0001:00:00.0, compute capability: 3.7)\n"
        }
      ],
      "execution_count": 16,
      "metadata": {
        "jupyter": {
          "source_hidden": false,
          "outputs_hidden": false
        },
        "nteract": {
          "transient": {
            "deleting": false
          }
        },
        "gather": {
          "logged": 1680268636750
        }
      }
    },
    {
      "cell_type": "code",
      "source": [
        "#do not train the pre-trained layers of VGG-19\r\n",
        "for layer in vgg.layers:\r\n",
        "    layer.trainable = False\r\n"
      ],
      "outputs": [],
      "execution_count": 17,
      "metadata": {
        "jupyter": {
          "source_hidden": false,
          "outputs_hidden": false
        },
        "nteract": {
          "transient": {
            "deleting": false
          }
        },
        "gather": {
          "logged": 1680268637435
        }
      }
    },
    {
      "cell_type": "code",
      "source": [
        "x = Flatten()(vgg.output)\r\n",
        "#adding output layer.Softmax classifier is used as it is multi-class classification\r\n",
        "prediction = Dense(6, activation='softmax')(x)"
      ],
      "outputs": [],
      "execution_count": 18,
      "metadata": {
        "jupyter": {
          "source_hidden": false,
          "outputs_hidden": false
        },
        "nteract": {
          "transient": {
            "deleting": false
          }
        },
        "gather": {
          "logged": 1680268638169
        }
      }
    },
    {
      "cell_type": "code",
      "source": [
        "model = Model(inputs=vgg.input, outputs=prediction)"
      ],
      "outputs": [],
      "execution_count": 19,
      "metadata": {
        "jupyter": {
          "source_hidden": false,
          "outputs_hidden": false
        },
        "nteract": {
          "transient": {
            "deleting": false
          }
        },
        "gather": {
          "logged": 1680268638784
        }
      }
    },
    {
      "cell_type": "code",
      "source": [
        "model.summary()"
      ],
      "outputs": [
        {
          "output_type": "stream",
          "name": "stdout",
          "text": "Model: \"model\"\n_________________________________________________________________\nLayer (type)                 Output Shape              Param #   \n=================================================================\ninput_1 (InputLayer)         [(None, 224, 224, 3)]     0         \n_________________________________________________________________\nblock1_conv1 (Conv2D)        (None, 224, 224, 64)      1792      \n_________________________________________________________________\nblock1_conv2 (Conv2D)        (None, 224, 224, 64)      36928     \n_________________________________________________________________\nblock1_pool (MaxPooling2D)   (None, 112, 112, 64)      0         \n_________________________________________________________________\nblock2_conv1 (Conv2D)        (None, 112, 112, 128)     73856     \n_________________________________________________________________\nblock2_conv2 (Conv2D)        (None, 112, 112, 128)     147584    \n_________________________________________________________________\nblock2_pool (MaxPooling2D)   (None, 56, 56, 128)       0         \n_________________________________________________________________\nblock3_conv1 (Conv2D)        (None, 56, 56, 256)       295168    \n_________________________________________________________________\nblock3_conv2 (Conv2D)        (None, 56, 56, 256)       590080    \n_________________________________________________________________\nblock3_conv3 (Conv2D)        (None, 56, 56, 256)       590080    \n_________________________________________________________________\nblock3_conv4 (Conv2D)        (None, 56, 56, 256)       590080    \n_________________________________________________________________\nblock3_pool (MaxPooling2D)   (None, 28, 28, 256)       0         \n_________________________________________________________________\nblock4_conv1 (Conv2D)        (None, 28, 28, 512)       1180160   \n_________________________________________________________________\nblock4_conv2 (Conv2D)        (None, 28, 28, 512)       2359808   \n_________________________________________________________________\nblock4_conv3 (Conv2D)        (None, 28, 28, 512)       2359808   \n_________________________________________________________________\nblock4_conv4 (Conv2D)        (None, 28, 28, 512)       2359808   \n_________________________________________________________________\nblock4_pool (MaxPooling2D)   (None, 14, 14, 512)       0         \n_________________________________________________________________\nblock5_conv1 (Conv2D)        (None, 14, 14, 512)       2359808   \n_________________________________________________________________\nblock5_conv2 (Conv2D)        (None, 14, 14, 512)       2359808   \n_________________________________________________________________\nblock5_conv3 (Conv2D)        (None, 14, 14, 512)       2359808   \n_________________________________________________________________\nblock5_conv4 (Conv2D)        (None, 14, 14, 512)       2359808   \n_________________________________________________________________\nblock5_pool (MaxPooling2D)   (None, 7, 7, 512)         0         \n_________________________________________________________________\nflatten (Flatten)            (None, 25088)             0         \n_________________________________________________________________\ndense (Dense)                (None, 6)                 150534    \n=================================================================\nTotal params: 20,174,918\nTrainable params: 150,534\nNon-trainable params: 20,024,384\n_________________________________________________________________\n"
        }
      ],
      "execution_count": 20,
      "metadata": {
        "jupyter": {
          "source_hidden": false,
          "outputs_hidden": false
        },
        "nteract": {
          "transient": {
            "deleting": false
          }
        },
        "gather": {
          "logged": 1680268639396
        }
      }
    },
    {
      "cell_type": "code",
      "source": [
        "model.compile(\r\n",
        "  loss='sparse_categorical_crossentropy',\r\n",
        "  optimizer=\"RMSprop\",\r\n",
        "  metrics=['accuracy']\r\n",
        ")"
      ],
      "outputs": [],
      "execution_count": 44,
      "metadata": {
        "jupyter": {
          "source_hidden": false,
          "outputs_hidden": false
        },
        "nteract": {
          "transient": {
            "deleting": false
          }
        },
        "gather": {
          "logged": 1680272721666
        }
      }
    },
    {
      "cell_type": "code",
      "source": [
        "from tensorflow.keras.callbacks import EarlyStopping\r\n",
        "early_stop=EarlyStopping(monitor='val_loss',mode='min',verbose=1,patience=5)\r\n",
        "#Early stopping to avoid overfitting of model"
      ],
      "outputs": [],
      "execution_count": 45,
      "metadata": {
        "jupyter": {
          "source_hidden": false,
          "outputs_hidden": false
        },
        "nteract": {
          "transient": {
            "deleting": false
          }
        },
        "gather": {
          "logged": 1680272723775
        }
      }
    },
    {
      "cell_type": "code",
      "source": [
        "# fit the model\r\n",
        "history = model.fit(\r\n",
        "  train_x,\r\n",
        "  train_y,\r\n",
        "  validation_data=(val_x,val_y),\r\n",
        "  epochs=10,\r\n",
        "  callbacks=[early_stop],\r\n",
        "  batch_size=32,shuffle=True)\r\n"
      ],
      "outputs": [
        {
          "output_type": "stream",
          "name": "stderr",
          "text": "2023-03-31 14:25:28.630272: W tensorflow/core/framework/cpu_allocator_impl.cc:81] Allocation of 6003658752 exceeds 10% of free system memory.\n"
        },
        {
          "output_type": "stream",
          "name": "stdout",
          "text": "Epoch 1/10\n312/312 [==============================] - 125s 400ms/step - loss: 0.2395 - accuracy: 0.9386 - val_loss: 1.6575 - val_accuracy: 0.7085\b\b\b\b\b\b\b\b\b\b\b\b\b\b\b\b\b\b\b\b\b\b\b\b\b\b\b\b\b\b\b\b\b\b\b\b\b\b\nEpoch 2/10\n312/312 [==============================] - 126s 402ms/step - loss: 0.2076 - accuracy: 0.9413 - val_loss: 0.3301 - val_accuracy: 0.9190\b\b\b\b\b\b\b\b\b\b\b\b\b\b\b\b\b\b\b\b\b\b\b\b\b\b\b\b\b\b\b\b\b\b\b\b\b\b\nEpoch 3/10\n312/312 [==============================] - 126s 405ms/step - loss: 0.1863 - accuracy: 0.9465 - val_loss: 0.3374 - val_accuracy: 0.9113\b\b\b\b\b\b\b\b\b\b\b\b\b\b\b\b\b\b\b\b\b\b\b\b\b\b\b\b\b\b\b\b\b\b\b\b\b\b\nEpoch 4/10\n312/312 [==============================] - 127s 407ms/step - loss: 0.1687 - accuracy: 0.9499 - val_loss: 0.7475 - val_accuracy: 0.8109\b\b\b\b\b\b\b\b\b\b\b\b\b\b\b\b\b\b\b\b\b\b\b\b\b\b\b\b\b\b\b\b\b\b\b\b\b\b\nEpoch 5/10\n312/312 [==============================] - 127s 408ms/step - loss: 0.1695 - accuracy: 0.9502 - val_loss: 0.3466 - val_accuracy: 0.9271\b\b\b\b\b\b\b\b\b\b\b\b\b\b\b\b\b\b\b\b\b\b\b\b\b\b\b\b\b\b\b\b\b\b\b\b\b\b\nEpoch 6/10\n312/312 [==============================] - 127s 408ms/step - loss: 0.1624 - accuracy: 0.9523 - val_loss: 0.3528 - val_accuracy: 0.9210\b\b\b\b\b\b\b\b\b\b\b\b\b\b\b\b\b\b\b\b\b\b\b\b\b\b\b\b\b\b\b\b\b\b\b\b\b\b\nEpoch 7/10\n312/312 [==============================] - 127s 408ms/step - loss: 0.1431 - accuracy: 0.9591 - val_loss: 0.4400 - val_accuracy: 0.9077\b\b\b\b\b\b\b\b\b\b\b\b\b\b\b\b\b\b\b\b\b\b\b\b\b\b\b\b\b\b\b\b\b\b\b\b\b\b\nEpoch 00007: early stopping\n"
        }
      ],
      "execution_count": 46,
      "metadata": {
        "jupyter": {
          "source_hidden": false,
          "outputs_hidden": false
        },
        "nteract": {
          "transient": {
            "deleting": false
          }
        },
        "gather": {
          "logged": 1680273620042
        }
      }
    },
    {
      "cell_type": "code",
      "source": [
        "# accuracies\r\n",
        "\r\n",
        "plt.plot(history.history['accuracy'], label='train acc')\r\n",
        "\r\n",
        "plt.plot(history.history['val_accuracy'], label='val acc')\r\n",
        "\r\n",
        "plt.legend()\r\n",
        "\r\n",
        "plt.savefig('vgg-acc-md-1.png')\r\n",
        "\r\n",
        "plt.show()\r\n",
        "# loss\r\n",
        "plt.plot(history.history['loss'], label='train loss')\r\n",
        "plt.plot(history.history['val_loss'], label='val loss')\r\n",
        "plt.legend()\r\n",
        "plt.savefig('vgg-loss-md-1.png')\r\n",
        "plt.show()"
      ],
      "outputs": [
        {
          "output_type": "display_data",
          "data": {
            "text/plain": "<Figure size 640x480 with 1 Axes>",
            "image/png": "[encoded data removed]"
          },
          "metadata": {}
        },
        {
          "output_type": "display_data",
          "data": {
            "text/plain": "<Figure size 640x480 with 1 Axes>",
            "image/png": "[encoded data removed]"
          },
          "metadata": {}
        }
      ],
      "execution_count": 47,
      "metadata": {
        "jupyter": {
          "source_hidden": false,
          "outputs_hidden": false
        },
        "nteract": {
          "transient": {
            "deleting": false
          }
        },
        "gather": {
          "logged": 1680273620990
        }
      }
    },
    {
      "cell_type": "code",
      "source": [
        "model.evaluate(test_x,test_y,batch_size=32)"
      ],
      "outputs": [
        {
          "output_type": "stream",
          "name": "stdout",
          "text": "62/62 [==============================] - 21s 331ms/step - loss: 0.4208 - accuracy: 0.9171\b\b\b\b\b\b\b\b\b\b\b\b\b\b\b\b\b\b\b\b\b\b\b\b\b\b\b\b\b\b\b\b\b\b\b\b\b\b\b\b\b\b\b\b\b\b\b\b\b\b\b\b\b\b\b\b\b\b\b\b\b\b\b\b\b\b\b\b\b\b\b\b\b\b\b\b\b\b\b\b\b\b\b\n"
        },
        {
          "output_type": "execute_result",
          "execution_count": 48,
          "data": {
            "text/plain": "[0.4207870662212372, 0.9170905351638794]"
          },
          "metadata": {}
        }
      ],
      "execution_count": 48,
      "metadata": {
        "jupyter": {
          "source_hidden": false,
          "outputs_hidden": false
        },
        "nteract": {
          "transient": {
            "deleting": false
          }
        },
        "gather": {
          "logged": 1680273642845
        }
      }
    },
    {
      "cell_type": "code",
      "source": [
        "from keras.models import load_model\r\n",
        "model.save('vgg19_32_RmsProp.h5')\r\n",
        "model_json = model.to_json()\r\n",
        "with open(\"vgg19_32_RmsProp.json\", \"w\") as json_file:\r\n",
        "    json_file.write(model_json)"
      ],
      "outputs": [],
      "execution_count": null,
      "metadata": {
        "jupyter": {
          "source_hidden": false,
          "outputs_hidden": false
        },
        "nteract": {
          "transient": {
            "deleting": false
          }
        }
      }
    },
    {
      "cell_type": "code",
      "source": [
        "#predict\r\n",
        "y_pred=model.predict(test_x)\r\n",
        "y_pred=np.argmax(y_pred,axis=1)\r\n",
        "#get classification report\r\n"
      ],
      "outputs": [],
      "execution_count": 49,
      "metadata": {
        "jupyter": {
          "source_hidden": false,
          "outputs_hidden": false
        },
        "nteract": {
          "transient": {
            "deleting": false
          }
        },
        "gather": {
          "logged": 1680273664601
        }
      }
    },
    {
      "cell_type": "code",
      "source": [
        "from sklearn.metrics import classification_report, confusion_matrix"
      ],
      "outputs": [],
      "execution_count": 50,
      "metadata": {
        "jupyter": {
          "source_hidden": false,
          "outputs_hidden": false
        },
        "nteract": {
          "transient": {
            "deleting": false
          }
        },
        "gather": {
          "logged": 1680273664913
        }
      }
    },
    {
      "cell_type": "code",
      "source": [
        "print(classification_report(y_pred,test_y))\r\n",
        "#get confusion matrix\r\n",
        "cm = confusion_matrix(y_pred,test_y)\r\n",
        "print(cm)\r\n"
      ],
      "outputs": [
        {
          "output_type": "stream",
          "name": "stdout",
          "text": "              precision    recall  f1-score   support\n\n           0       0.97      1.00      0.99       271\n           1       0.96      0.76      0.85       194\n           2       0.91      0.92      0.91       676\n           3       0.92      0.97      0.94       457\n           4       0.85      0.87      0.86       290\n           5       1.00      0.90      0.95        78\n\n    accuracy                           0.92      1966\n   macro avg       0.93      0.90      0.92      1966\nweighted avg       0.92      0.92      0.92      1966\n\n[[271   0   0   0   0   0]\n [  3 147  20   8  16   0]\n [  2   3 620  25  26   0]\n [  0   0  13 444   0   0]\n [  2   1  30   6 251   0]\n [  1   2   2   0   3  70]]\n"
        }
      ],
      "execution_count": 51,
      "metadata": {
        "jupyter": {
          "source_hidden": false,
          "outputs_hidden": false
        },
        "nteract": {
          "transient": {
            "deleting": false
          }
        },
        "gather": {
          "logged": 1680273665174
        }
      }
    },
    {
      "cell_type": "code",
      "source": [
        "import pandas as pd\r\n",
        "cm = pd.DataFrame(cm , index = ['0','1','2','3','4','5'] , columns = ['0','1','2','3','4','5'])"
      ],
      "outputs": [],
      "execution_count": 52,
      "metadata": {
        "jupyter": {
          "source_hidden": false,
          "outputs_hidden": false
        },
        "nteract": {
          "transient": {
            "deleting": false
          }
        },
        "gather": {
          "logged": 1680273665385
        }
      }
    },
    {
      "cell_type": "code",
      "source": [
        "import seaborn as sns\r\n",
        "labels = ['cardiomegaly','Covid','Normal','Pneumonia','Pneumothorax','Tuberculosis']\r\n",
        "plt.figure(figsize = (10,10))\r\n",
        "sns.heatmap(cm,cmap= \"Blues\", linecolor = 'black' , linewidth = 1 , annot = True, fmt='',xticklabels = labels,yticklabels = labels)"
      ],
      "outputs": [
        {
          "output_type": "execute_result",
          "execution_count": 53,
          "data": {
            "text/plain": "<matplotlib.axes._subplots.AxesSubplot at 0x7ff000b76640>"
          },
          "metadata": {}
        },
        {
          "output_type": "display_data",
          "data": {
            "text/plain": "<Figure size 1000x1000 with 2 Axes>",
            "image/png": "[encoded data removed]"
          },
          "metadata": {}
        }
      ],
      "execution_count": 53,
      "metadata": {
        "jupyter": {
          "source_hidden": false,
          "outputs_hidden": false
        },
        "nteract": {
          "transient": {
            "deleting": false
          }
        },
        "gather": {
          "logged": 1680273665797
        }
      }
    },
    {
      "cell_type": "code",
      "source": [
        "\r\n",
        "from tensorflow.keras.preprocessing import image\r\n",
        "from tensorflow.keras.applications.vgg16 import preprocess_input,decode_predictions\r\n",
        "import numpy as np\r\n",
        "\r\n",
        "img_path = 'cardiomegaly.png'\r\n",
        "#There is an interpolation method to match the source size with the target size\r\n",
        "#image loaded in PIL (Python Imaging Library)\r\n",
        "img = image.load_img(img_path,color_mode='rgb', target_size=(224, 224))\r\n",
        "# display(img)\r\n"
      ],
      "outputs": [],
      "execution_count": 38,
      "metadata": {
        "jupyter": {
          "source_hidden": false,
          "outputs_hidden": false
        },
        "nteract": {
          "transient": {
            "deleting": false
          }
        },
        "gather": {
          "logged": 1680272321919
        }
      }
    }
  ],
  "metadata": {
    "kernelspec": {
      "name": "python38-azureml",
      "language": "python",
      "display_name": "Python 3.8 - AzureML"
    },
    "language_info": {
      "name": "python",
      "version": "3.8.10",
      "mimetype": "text/x-python",
      "codemirror_mode": {
        "name": "ipython",
        "version": 3
      },
      "pygments_lexer": "ipython3",
      "nbconvert_exporter": "python",
      "file_extension": ".py"
    },
    "microsoft": {
      "ms_spell_check": {
        "ms_spell_check_language": "en"
      },
      "host": {
        "AzureML": {
          "notebookHasBeenCompleted": true
        }
      }
    },
    "kernel_info": {
      "name": "python38-azureml"
    },
    "nteract": {
      "version": "nteract-front-end@1.0.0"
    }
  },
  "nbformat": 4,
  "nbformat_minor": 2
}