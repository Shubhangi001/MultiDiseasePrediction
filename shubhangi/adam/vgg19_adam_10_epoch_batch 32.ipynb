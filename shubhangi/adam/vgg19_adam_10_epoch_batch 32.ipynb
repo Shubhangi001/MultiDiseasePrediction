{
  "cells": [
    {
      "cell_type": "code",
      "source": [
        "import os\r\n",
        "import zipfile"
      ],
      "outputs": [],
      "execution_count": 24,
      "metadata": {
        "jupyter": {
          "source_hidden": false,
          "outputs_hidden": false
        },
        "nteract": {
          "transient": {
            "deleting": false
          }
        },
        "gather": {
          "logged": 1680009865860
        }
      }
    },
    {
      "cell_type": "code",
      "source": [
        "# # uncomment if the dataset is not loaded\r\n",
        "# # name of the zip file you want to unzip\r\n",
        "# local_zip = 'image-processing.zip'\r\n",
        "# # opening a file with mode parameter 'r' : read existing file\r\n",
        "# zip_ref = zipfile.ZipFile(local_zip, 'r')\r\n",
        "# # extract all contents of the zip file\r\n",
        "# zip_ref.extractall('')\r\n",
        "# # close the file\r\n",
        "# zip_ref.close()\r\n"
      ],
      "outputs": [],
      "execution_count": null,
      "metadata": {
        "jupyter": {
          "source_hidden": false,
          "outputs_hidden": false
        },
        "nteract": {
          "transient": {
            "deleting": false
          }
        }
      }
    },
    {
      "cell_type": "code",
      "source": [
        "import tensorflow"
      ],
      "outputs": [],
      "execution_count": 25,
      "metadata": {
        "jupyter": {
          "source_hidden": false,
          "outputs_hidden": false
        },
        "nteract": {
          "transient": {
            "deleting": false
          }
        },
        "gather": {
          "logged": 1680009876409
        }
      }
    },
    {
      "cell_type": "code",
      "source": [
        "from tensorflow.keras.layers import Input, Lambda, Dense, Flatten,Dropout\r\n",
        "from tensorflow.keras.models import Model\r\n",
        "from tensorflow.keras.applications.vgg19 import VGG19\r\n",
        "from tensorflow.keras.applications.vgg19 import preprocess_input\r\n",
        "from tensorflow.keras.preprocessing import image\r\n",
        "from tensorflow.keras.preprocessing.image import ImageDataGenerator\r\n",
        "from tensorflow.keras.models import Sequential\r\n",
        "import numpy as np\r\n",
        "import pandas as pd\r\n",
        "import os\r\n",
        "import cv2\r\n",
        "import matplotlib.pyplot as plt\r\n",
        "import gc"
      ],
      "outputs": [],
      "execution_count": 27,
      "metadata": {
        "jupyter": {
          "source_hidden": false,
          "outputs_hidden": false
        },
        "nteract": {
          "transient": {
            "deleting": false
          }
        },
        "gather": {
          "logged": 1680009883296
        }
      }
    },
    {
      "cell_type": "code",
      "source": [
        "import os\r\n",
        "os.listdir()\r\n"
      ],
      "outputs": [
        {
          "output_type": "execute_result",
          "execution_count": 28,
          "data": {
            "text/plain": "['.amlignore',\n '.amlignore.amltmp',\n '.ipynb_aml_checkpoints',\n 'image-processing.zip',\n 'MultiDiseasePrediction.ipynb',\n 'multidiseaseprediction.ipynb.amltmp',\n 'test-20230326T155708Z-001',\n 'train-20230326T152931Z-001',\n 'val-20230326T152503Z-001',\n 'vgg-acc-md-1.png']"
          },
          "metadata": {}
        }
      ],
      "execution_count": 28,
      "metadata": {
        "jupyter": {
          "source_hidden": false,
          "outputs_hidden": false
        },
        "nteract": {
          "transient": {
            "deleting": false
          }
        },
        "gather": {
          "logged": 1680009885108
        }
      }
    },
    {
      "cell_type": "code",
      "source": [
        "test_path=\"test-20230326T155708Z-001/test\"\r\n",
        "train_path=\"train-20230326T152931Z-001/train\"\r\n",
        "val_path=\"val-20230326T152503Z-001/val\""
      ],
      "outputs": [],
      "execution_count": 29,
      "metadata": {
        "jupyter": {
          "source_hidden": false,
          "outputs_hidden": false
        },
        "nteract": {
          "transient": {
            "deleting": false
          }
        },
        "gather": {
          "logged": 1680009888144
        }
      }
    },
    {
      "cell_type": "markdown",
      "source": [
        "We will be training a VGG-19 model on our custom training dataset to classify among the six categories - Cardiomegaly, Covid,Normal, Pneumonia, Pneumothorax, Tuberculosis. The pre-trained CNN model inputs a color image of dimensions 224×224 of one of the disease categories. However, all the images of the dataset are of different dimensions. Hence, they must all be resized to the required dimension.\r\n",
        "\r\n"
      ],
      "metadata": {
        "nteract": {
          "transient": {
            "deleting": false
          }
        }
      }
    },
    {
      "cell_type": "code",
      "source": [
        "x_train=[]\r\n",
        "\r\n",
        "for folder in os.listdir(train_path):\r\n",
        "\r\n",
        "    sub_path=train_path+\"/\"+folder\r\n",
        "\r\n",
        "    for img in os.listdir(sub_path):\r\n",
        "\r\n",
        "        image_path=sub_path+\"/\"+img\r\n",
        "\r\n",
        "        img_arr=cv2.imread(image_path)\r\n",
        "\r\n",
        "        img_arr=cv2.resize(img_arr,(224,224))\r\n",
        "\r\n",
        "        x_train.append(img_arr)"
      ],
      "outputs": [],
      "execution_count": 30,
      "metadata": {
        "jupyter": {
          "source_hidden": false,
          "outputs_hidden": false
        },
        "nteract": {
          "transient": {
            "deleting": false
          }
        },
        "gather": {
          "logged": 1680010281382
        }
      }
    },
    {
      "cell_type": "code",
      "source": [
        "x_test=[]\r\n",
        "\r\n",
        "for folder in os.listdir(test_path):\r\n",
        "\r\n",
        "    sub_path=test_path+\"/\"+folder\r\n",
        "\r\n",
        "    for img in os.listdir(sub_path):\r\n",
        "\r\n",
        "        image_path=sub_path+\"/\"+img\r\n",
        "\r\n",
        "        img_arr=cv2.imread(image_path)\r\n",
        "\r\n",
        "        img_arr=cv2.resize(img_arr,(224,224))\r\n",
        "\r\n",
        "        x_test.append(img_arr)\r\n"
      ],
      "outputs": [],
      "execution_count": 31,
      "metadata": {
        "jupyter": {
          "source_hidden": false,
          "outputs_hidden": false
        },
        "nteract": {
          "transient": {
            "deleting": false
          }
        },
        "gather": {
          "logged": 1680010350494
        }
      }
    },
    {
      "cell_type": "code",
      "source": [
        "x_val=[]\r\n",
        "\r\n",
        "for folder in os.listdir(val_path):\r\n",
        "\r\n",
        "    sub_path=val_path+\"/\"+folder\r\n",
        "\r\n",
        "    for img in os.listdir(sub_path):\r\n",
        "\r\n",
        "        image_path=sub_path+\"/\"+img\r\n",
        "\r\n",
        "        img_arr=cv2.imread(image_path)\r\n",
        "\r\n",
        "        img_arr=cv2.resize(img_arr,(224,224))\r\n",
        "\r\n",
        "        x_val.append(img_arr)\r\n"
      ],
      "outputs": [],
      "execution_count": 32,
      "metadata": {
        "jupyter": {
          "source_hidden": false,
          "outputs_hidden": false
        },
        "nteract": {
          "transient": {
            "deleting": false
          }
        },
        "gather": {
          "logged": 1680010420601
        }
      }
    },
    {
      "cell_type": "markdown",
      "source": [
        "Now, x_train,x_test, and x_val must be divided by 255.0 for normalization.\r\n"
      ],
      "metadata": {
        "nteract": {
          "transient": {
            "deleting": false
          }
        }
      }
    },
    {
      "cell_type": "code",
      "source": [
        "train_x=np.array(x_train)\r\n",
        "test_x=np.array(x_test)\r\n",
        "val_x=np.array(x_val)\r\n",
        "train_x=train_x/255.0\r\n",
        "test_x=test_x/255.0\r\n",
        "val_x=val_x/255.0\r\n"
      ],
      "outputs": [],
      "execution_count": 33,
      "metadata": {
        "jupyter": {
          "source_hidden": false,
          "outputs_hidden": false
        },
        "nteract": {
          "transient": {
            "deleting": false
          }
        },
        "gather": {
          "logged": 1680010431695
        }
      }
    },
    {
      "cell_type": "markdown",
      "source": [
        "Clearing x_train, x_test and x_val to save memory"
      ],
      "metadata": {
        "nteract": {
          "transient": {
            "deleting": false
          }
        }
      }
    },
    {
      "cell_type": "code",
      "source": [
        "del x_train,x_test,x_val\r\n",
        "gc.collect()\r\n"
      ],
      "outputs": [
        {
          "output_type": "execute_result",
          "execution_count": 34,
          "data": {
            "text/plain": "7716"
          },
          "metadata": {}
        }
      ],
      "execution_count": 34,
      "metadata": {
        "jupyter": {
          "source_hidden": false,
          "outputs_hidden": false
        },
        "nteract": {
          "transient": {
            "deleting": false
          }
        },
        "gather": {
          "logged": 1680010432209
        }
      }
    },
    {
      "cell_type": "markdown",
      "source": [
        "Now we need to add labels to the images, which are the 5 diseases and a normal class\r\n"
      ],
      "metadata": {
        "nteract": {
          "transient": {
            "deleting": false
          }
        }
      }
    },
    {
      "cell_type": "code",
      "source": [
        "train_datagen = ImageDataGenerator(rescale = 1./255)\r\n",
        "test_datagen = ImageDataGenerator(rescale = 1./255)\r\n",
        "val_datagen = ImageDataGenerator(rescale = 1./255)\r\n",
        "training_set = train_datagen.flow_from_directory(train_path,\r\n",
        "                                                 target_size = (224, 224),\r\n",
        "                                                 batch_size = 32,\r\n",
        "                                                 class_mode = 'sparse')\r\n",
        "test_set = test_datagen.flow_from_directory(test_path,\r\n",
        "                                            target_size = (224, 224),\r\n",
        "                                            batch_size = 32,\r\n",
        "                                            class_mode = 'sparse')\r\n",
        "val_set = val_datagen.flow_from_directory(val_path,\r\n",
        "                                            target_size = (224, 224),\r\n",
        "                                            batch_size = 32,\r\n",
        "                                            class_mode = 'sparse')"
      ],
      "outputs": [
        {
          "output_type": "stream",
          "name": "stdout",
          "text": "Found 9971 images belonging to 6 classes.\nFound 1966 images belonging to 6 classes.\nFound 1962 images belonging to 6 classes.\n"
        }
      ],
      "execution_count": 35,
      "metadata": {
        "jupyter": {
          "source_hidden": false,
          "outputs_hidden": false
        },
        "nteract": {
          "transient": {
            "deleting": false
          }
        },
        "gather": {
          "logged": 1680010432781
        }
      }
    },
    {
      "cell_type": "code",
      "source": [
        "train_y=training_set.classes\r\n",
        "test_y=test_set.classes\r\n",
        "val_y=val_set.classes\r\n",
        "print(train_y,test_y,val_y) "
      ],
      "outputs": [
        {
          "output_type": "stream",
          "name": "stdout",
          "text": "[0 0 0 ... 5 5 5] [0 0 0 ... 5 5 5] [0 0 0 ... 5 5 5]\n"
        }
      ],
      "execution_count": 36,
      "metadata": {
        "jupyter": {
          "source_hidden": false,
          "outputs_hidden": false
        },
        "nteract": {
          "transient": {
            "deleting": false
          }
        },
        "gather": {
          "logged": 1680010432998
        }
      }
    },
    {
      "cell_type": "code",
      "source": [
        "training_set.class_indices\r\n",
        "train_y.shape,test_y.shape,val_y.shape"
      ],
      "outputs": [
        {
          "output_type": "execute_result",
          "execution_count": 37,
          "data": {
            "text/plain": "((9971,), (1966,), (1962,))"
          },
          "metadata": {}
        }
      ],
      "execution_count": 37,
      "metadata": {
        "jupyter": {
          "source_hidden": false,
          "outputs_hidden": false
        },
        "nteract": {
          "transient": {
            "deleting": false
          }
        },
        "gather": {
          "logged": 1680010433272
        }
      }
    },
    {
      "cell_type": "code",
      "source": [
        "del training_set,test_set,val_set\r\n",
        "gc.collect()"
      ],
      "outputs": [
        {
          "output_type": "execute_result",
          "execution_count": 38,
          "data": {
            "text/plain": "0"
          },
          "metadata": {}
        }
      ],
      "execution_count": 38,
      "metadata": {
        "jupyter": {
          "source_hidden": false,
          "outputs_hidden": false
        },
        "nteract": {
          "transient": {
            "deleting": false
          }
        },
        "gather": {
          "logged": 1680010433560
        }
      }
    },
    {
      "cell_type": "code",
      "source": [
        "IMAGE_SIZE  = (224, 224,3)\r\n",
        "vgg = VGG19(input_shape = IMAGE_SIZE ,weights='imagenet', include_top=False)"
      ],
      "outputs": [],
      "execution_count": 39,
      "metadata": {
        "jupyter": {
          "source_hidden": false,
          "outputs_hidden": false
        },
        "nteract": {
          "transient": {
            "deleting": false
          }
        },
        "gather": {
          "logged": 1680010433959
        }
      }
    },
    {
      "cell_type": "code",
      "source": [
        "#do not train the pre-trained layers of VGG-19\r\n",
        "for layer in vgg.layers:\r\n",
        "    layer.trainable = False\r\n"
      ],
      "outputs": [],
      "execution_count": 40,
      "metadata": {
        "jupyter": {
          "source_hidden": false,
          "outputs_hidden": false
        },
        "nteract": {
          "transient": {
            "deleting": false
          }
        },
        "gather": {
          "logged": 1680010434209
        }
      }
    },
    {
      "cell_type": "code",
      "source": [
        "x = Flatten()(vgg.output)\r\n",
        "#adding output layer.Softmax classifier is used as it is multi-class classification\r\n",
        "prediction = Dense(6, activation='softmax')(x)"
      ],
      "outputs": [],
      "execution_count": 41,
      "metadata": {
        "jupyter": {
          "source_hidden": false,
          "outputs_hidden": false
        },
        "nteract": {
          "transient": {
            "deleting": false
          }
        },
        "gather": {
          "logged": 1680010434425
        }
      }
    },
    {
      "cell_type": "code",
      "source": [
        "model = Model(inputs=vgg.input, outputs=prediction)"
      ],
      "outputs": [],
      "execution_count": 42,
      "metadata": {
        "jupyter": {
          "source_hidden": false,
          "outputs_hidden": false
        },
        "nteract": {
          "transient": {
            "deleting": false
          }
        },
        "gather": {
          "logged": 1680010434633
        }
      }
    },
    {
      "cell_type": "code",
      "source": [
        "model.summary()"
      ],
      "outputs": [
        {
          "output_type": "stream",
          "name": "stdout",
          "text": "Model: \"model_1\"\n_________________________________________________________________\nLayer (type)                 Output Shape              Param #   \n=================================================================\ninput_2 (InputLayer)         [(None, 224, 224, 3)]     0         \n_________________________________________________________________\nblock1_conv1 (Conv2D)        (None, 224, 224, 64)      1792      \n_________________________________________________________________\nblock1_conv2 (Conv2D)        (None, 224, 224, 64)      36928     \n_________________________________________________________________\nblock1_pool (MaxPooling2D)   (None, 112, 112, 64)      0         \n_________________________________________________________________\nblock2_conv1 (Conv2D)        (None, 112, 112, 128)     73856     \n_________________________________________________________________\nblock2_conv2 (Conv2D)        (None, 112, 112, 128)     147584    \n_________________________________________________________________\nblock2_pool (MaxPooling2D)   (None, 56, 56, 128)       0         \n_________________________________________________________________\nblock3_conv1 (Conv2D)        (None, 56, 56, 256)       295168    \n_________________________________________________________________\nblock3_conv2 (Conv2D)        (None, 56, 56, 256)       590080    \n_________________________________________________________________\nblock3_conv3 (Conv2D)        (None, 56, 56, 256)       590080    \n_________________________________________________________________\nblock3_conv4 (Conv2D)        (None, 56, 56, 256)       590080    \n_________________________________________________________________\nblock3_pool (MaxPooling2D)   (None, 28, 28, 256)       0         \n_________________________________________________________________\nblock4_conv1 (Conv2D)        (None, 28, 28, 512)       1180160   \n_________________________________________________________________\nblock4_conv2 (Conv2D)        (None, 28, 28, 512)       2359808   \n_________________________________________________________________\nblock4_conv3 (Conv2D)        (None, 28, 28, 512)       2359808   \n_________________________________________________________________\nblock4_conv4 (Conv2D)        (None, 28, 28, 512)       2359808   \n_________________________________________________________________\nblock4_pool (MaxPooling2D)   (None, 14, 14, 512)       0         \n_________________________________________________________________\nblock5_conv1 (Conv2D)        (None, 14, 14, 512)       2359808   \n_________________________________________________________________\nblock5_conv2 (Conv2D)        (None, 14, 14, 512)       2359808   \n_________________________________________________________________\nblock5_conv3 (Conv2D)        (None, 14, 14, 512)       2359808   \n_________________________________________________________________\nblock5_conv4 (Conv2D)        (None, 14, 14, 512)       2359808   \n_________________________________________________________________\nblock5_pool (MaxPooling2D)   (None, 7, 7, 512)         0         \n_________________________________________________________________\nflatten_1 (Flatten)          (None, 25088)             0         \n_________________________________________________________________\ndense_1 (Dense)              (None, 6)                 150534    \n=================================================================\nTotal params: 20,174,918\nTrainable params: 150,534\nNon-trainable params: 20,024,384\n_________________________________________________________________\n"
        }
      ],
      "execution_count": 43,
      "metadata": {
        "jupyter": {
          "source_hidden": false,
          "outputs_hidden": false
        },
        "nteract": {
          "transient": {
            "deleting": false
          }
        },
        "gather": {
          "logged": 1680010434846
        }
      }
    },
    {
      "cell_type": "code",
      "source": [
        "model.compile(\r\n",
        "  loss='sparse_categorical_crossentropy',\r\n",
        "  optimizer=\"adam\",\r\n",
        "  metrics=['accuracy']\r\n",
        ")"
      ],
      "outputs": [],
      "execution_count": 44,
      "metadata": {
        "jupyter": {
          "source_hidden": false,
          "outputs_hidden": false
        },
        "nteract": {
          "transient": {
            "deleting": false
          }
        },
        "gather": {
          "logged": 1680010435077
        }
      }
    },
    {
      "cell_type": "code",
      "source": [
        "from tensorflow.keras.callbacks import EarlyStopping\r\n",
        "early_stop=EarlyStopping(monitor='val_loss',mode='min',verbose=1,patience=5)\r\n",
        "#Early stopping to avoid overfitting of model"
      ],
      "outputs": [],
      "execution_count": 45,
      "metadata": {
        "jupyter": {
          "source_hidden": false,
          "outputs_hidden": false
        },
        "nteract": {
          "transient": {
            "deleting": false
          }
        },
        "gather": {
          "logged": 1680010435353
        }
      }
    },
    {
      "cell_type": "code",
      "source": [
        "# fit the model\r\n",
        "history = model.fit(\r\n",
        "  train_x,\r\n",
        "  train_y,\r\n",
        "  validation_data=(val_x,val_y),\r\n",
        "  epochs=10,\r\n",
        "  callbacks=[early_stop],\r\n",
        "  batch_size=32,shuffle=True)\r\n"
      ],
      "outputs": [
        {
          "output_type": "stream",
          "name": "stderr",
          "text": "2023-03-28 13:33:57.804118: W tensorflow/core/framework/cpu_allocator_impl.cc:81] Allocation of 6003658752 exceeds 10% of free system memory.\n"
        },
        {
          "output_type": "stream",
          "name": "stdout",
          "text": "Epoch 1/10\n312/312 [==============================] - 132s 422ms/step - loss: 0.5874 - accuracy: 0.8067 - val_loss: 0.4426 - val_accuracy: 0.8308\b\b\b\b\b\b\b\b\b\b\b\b\b\b\b\b\b\b\b\b\b\b\b\b\b\b\b\b\b\b\b\b\b\b\b\b\b\b\nEpoch 2/10\n312/312 [==============================] - 133s 427ms/step - loss: 0.2917 - accuracy: 0.9008 - val_loss: 0.3353 - val_accuracy: 0.8909\b\b\b\b\b\b\b\b\b\b\b\b\b\b\b\b\b\b\b\b\b\b\b\b\b\b\b\b\b\b\b\b\b\b\b\b\b\b\nEpoch 3/10\n312/312 [==============================] - 134s 428ms/step - loss: 0.2365 - accuracy: 0.9202 - val_loss: 0.3081 - val_accuracy: 0.9032\b\b\b\b\b\b\b\b\b\b\b\b\b\b\b\b\b\b\b\b\b\b\b\b\b\b\b\b\b\b\b\b\b\b\b\b\b\b\nEpoch 4/10\n312/312 [==============================] - 134s 429ms/step - loss: 0.2114 - accuracy: 0.9254 - val_loss: 1.0137 - val_accuracy: 0.7187\b\b\b\b\b\b\b\b\b\b\b\b\b\b\b\b\b\b\b\b\b\b\b\b\b\b\b\b\b\b\b\b\b\b\b\b\b\b\nEpoch 5/10\n312/312 [==============================] - 134s 429ms/step - loss: 0.1882 - accuracy: 0.9346 - val_loss: 0.2663 - val_accuracy: 0.9159\b\b\b\b\b\b\b\b\b\b\b\b\b\b\b\b\b\b\b\b\b\b\b\b\b\b\b\b\b\b\b\b\b\b\b\b\b\b\nEpoch 6/10\n312/312 [==============================] - 134s 429ms/step - loss: 0.1467 - accuracy: 0.9489 - val_loss: 0.3401 - val_accuracy: 0.9052\b\b\b\b\b\b\b\b\b\b\b\b\b\b\b\b\b\b\b\b\b\b\b\b\b\b\b\b\b\b\b\b\b\b\b\b\b\b\nEpoch 7/10\n312/312 [==============================] - 134s 430ms/step - loss: 0.1159 - accuracy: 0.9602 - val_loss: 0.3072 - val_accuracy: 0.9108\b\b\b\b\b\b\b\b\b\b\b\b\b\b\b\b\b\b\b\b\b\b\b\b\b\b\b\b\b\b\b\b\b\b\b\b\b\b\nEpoch 8/10\n312/312 [==============================] - 137s 439ms/step - loss: 0.1035 - accuracy: 0.9639 - val_loss: 0.4915 - val_accuracy: 0.8542\b\b\b\b\b\b\b\b\b\b\b\b\b\b\b\b\b\b\b\b\b\b\b\b\b\b\b\b\b\b\b\b\b\b\b\b\b\b\nEpoch 9/10\n312/312 [==============================] - 135s 433ms/step - loss: 0.0939 - accuracy: 0.9682 - val_loss: 0.3662 - val_accuracy: 0.9037\b\b\b\b\b\b\b\b\b\b\b\b\b\b\b\b\b\b\b\b\b\b\b\b\b\b\b\b\b\b\b\b\b\b\b\b\b\b\nEpoch 10/10\n312/312 [==============================] - 135s 432ms/step - loss: 0.0816 - accuracy: 0.9712 - val_loss: 0.2774 - val_accuracy: 0.9185\b\b\b\b\b\b\b\b\b\b\b\b\b\b\b\b\b\b\b\b\b\b\b\b\b\b\b\b\b\b\b\b\b\b\b\b\b\b\nEpoch 00010: early stopping\n"
        }
      ],
      "execution_count": 46,
      "metadata": {
        "jupyter": {
          "source_hidden": false,
          "outputs_hidden": false
        },
        "nteract": {
          "transient": {
            "deleting": false
          }
        },
        "gather": {
          "logged": 1680011785851
        }
      }
    },
    {
      "cell_type": "code",
      "source": [
        "# accuracies\r\n",
        "\r\n",
        "plt.plot(history.history['accuracy'], label='train acc')\r\n",
        "\r\n",
        "plt.plot(history.history['val_accuracy'], label='val acc')\r\n",
        "\r\n",
        "plt.legend()\r\n",
        "\r\n",
        "plt.savefig('vgg-acc-md-1.png')\r\n",
        "\r\n",
        "plt.show()\r\n",
        "# loss\r\n",
        "plt.plot(history.history['loss'], label='train loss')\r\n",
        "plt.plot(history.history['val_loss'], label='val loss')\r\n",
        "plt.legend()\r\n",
        "plt.savefig('vgg-loss-md-1.png')\r\n",
        "plt.show()"
      ],
      "outputs": [
        {
          "output_type": "display_data",
          "data": {
            "text/plain": "<Figure size 640x480 with 1 Axes>",
            "image/png": "[encoded data removed]"
          },
          "metadata": {}
        },
        {
          "output_type": "display_data",
          "data": {
            "text/plain": "<Figure size 640x480 with 1 Axes>",
            "image/png": "[encoded data removed]"
          },
          "metadata": {}
        }
      ],
      "execution_count": 47,
      "metadata": {
        "jupyter": {
          "source_hidden": false,
          "outputs_hidden": false
        },
        "nteract": {
          "transient": {
            "deleting": false
          }
        },
        "gather": {
          "logged": 1680011787381
        }
      }
    },
    {
      "cell_type": "code",
      "source": [
        "model.evaluate(test_x,test_y,batch_size=32)"
      ],
      "outputs": [
        {
          "output_type": "stream",
          "name": "stdout",
          "text": "62/62 [==============================] - 23s 375ms/step - loss: 0.2758 - accuracy: 0.9166\b\b\b\b\b\b\b\b\b\b\b\b\b\b\b\b\b\b\b\b\b\b\b\b\b\b\b\b\b\b\b\b\b\b\b\b\b\b\b\b\b\b\b\b\b\b\b\b\b\b\b\b\b\b\b\b\b\b\b\b\b\b\b\b\b\b\b\b\b\b\b\b\b\b\b\b\b\n"
        },
        {
          "output_type": "execute_result",
          "execution_count": 48,
          "data": {
            "text/plain": "[0.27578094601631165, 0.9165818691253662]"
          },
          "metadata": {}
        }
      ],
      "execution_count": 48,
      "metadata": {
        "jupyter": {
          "source_hidden": false,
          "outputs_hidden": false
        },
        "nteract": {
          "transient": {
            "deleting": false
          }
        },
        "gather": {
          "logged": 1680011811748
        }
      }
    },
    {
      "cell_type": "code",
      "source": [
        "#predict\r\n",
        "y_pred=model.predict(test_x)\r\n",
        "y_pred=np.argmax(y_pred,axis=1)\r\n",
        "#get classification report\r\n"
      ],
      "outputs": [],
      "execution_count": 50,
      "metadata": {
        "jupyter": {
          "source_hidden": false,
          "outputs_hidden": false
        },
        "nteract": {
          "transient": {
            "deleting": false
          }
        },
        "gather": {
          "logged": 1680011894219
        }
      }
    },
    {
      "cell_type": "code",
      "source": [
        "    from sklearn.metrics import classification_report, confusion_matrix"
      ],
      "outputs": [],
      "execution_count": 51,
      "metadata": {
        "jupyter": {
          "source_hidden": false,
          "outputs_hidden": false
        },
        "nteract": {
          "transient": {
            "deleting": false
          }
        },
        "gather": {
          "logged": 1680011923606
        }
      }
    },
    {
      "cell_type": "code",
      "source": [
        "print(classification_report(y_pred,test_y))\r\n",
        "#get confusion matrix\r\n",
        "cm = confusion_matrix(y_pred,test_y)\r\n",
        "print(cm)\r\n"
      ],
      "outputs": [
        {
          "output_type": "stream",
          "name": "stdout",
          "text": "              precision    recall  f1-score   support\n\n           0       0.96      0.99      0.98       271\n           1       0.86      0.93      0.89       142\n           2       0.91      0.90      0.90       686\n           3       0.94      0.94      0.94       481\n           4       0.88      0.83      0.85       312\n           5       0.99      0.93      0.96        74\n\n    accuracy                           0.92      1966\n   macro avg       0.92      0.92      0.92      1966\nweighted avg       0.92      0.92      0.92      1966\n\n[[269   1   0   0   1   0]\n [  1 132   5   0   4   0]\n [  2  11 620  25  28   0]\n [  0   3  22 453   3   0]\n [  6   3  38   5 259   1]\n [  1   3   0   0   1  69]]\n"
        }
      ],
      "execution_count": 54,
      "metadata": {
        "jupyter": {
          "source_hidden": false,
          "outputs_hidden": false
        },
        "nteract": {
          "transient": {
            "deleting": false
          }
        },
        "gather": {
          "logged": 1680013381737
        }
      }
    },
    {
      "cell_type": "code",
      "source": [
        "import pandas as pd\r\n",
        "cm = pd.DataFrame(cm , index = ['0','1','2','3','4','5'] , columns = ['0','1','2','3','4','5'])"
      ],
      "outputs": [],
      "execution_count": 55,
      "metadata": {
        "jupyter": {
          "source_hidden": false,
          "outputs_hidden": false
        },
        "nteract": {
          "transient": {
            "deleting": false
          }
        },
        "gather": {
          "logged": 1680013385396
        }
      }
    },
    {
      "cell_type": "code",
      "source": [
        "import seaborn as sns\r\n",
        "labels = ['cardiomegaly','Covid','Normal','Pneumonia','Pneumothorax','Tuberculosis']\r\n",
        "plt.figure(figsize = (10,10))\r\n",
        "sns.heatmap(cm,cmap= \"Blues\", linecolor = 'black' , linewidth = 1 , annot = True, fmt='',xticklabels = labels,yticklabels = labels)"
      ],
      "outputs": [
        {
          "output_type": "execute_result",
          "execution_count": 58,
          "data": {
            "text/plain": "<matplotlib.axes._subplots.AxesSubplot at 0x7f22d9141130>"
          },
          "metadata": {}
        },
        {
          "output_type": "display_data",
          "data": {
            "text/plain": "<Figure size 1000x1000 with 2 Axes>",
            "image/png": "[encoded data removed]"
          },
          "metadata": {}
        }
      ],
      "execution_count": 58,
      "metadata": {
        "jupyter": {
          "source_hidden": false,
          "outputs_hidden": false
        },
        "nteract": {
          "transient": {
            "deleting": false
          }
        },
        "gather": {
          "logged": 1680013611370
        }
      }
    }
  ],
  "metadata": {
    "kernelspec": {
      "name": "python38-azureml",
      "language": "python",
      "display_name": "Python 3.8 - AzureML"
    },
    "language_info": {
      "name": "python",
      "version": "3.8.10",
      "mimetype": "text/x-python",
      "codemirror_mode": {
        "name": "ipython",
        "version": 3
      },
      "pygments_lexer": "ipython3",
      "nbconvert_exporter": "python",
      "file_extension": ".py"
    },
    "microsoft": {
      "ms_spell_check": {
        "ms_spell_check_language": "en"
      },
      "host": {
        "AzureML": {
          "notebookHasBeenCompleted": true
        }
      }
    },
    "kernel_info": {
      "name": "python38-azureml"
    },
    "nteract": {
      "version": "nteract-front-end@1.0.0"
    }
  },
  "nbformat": 4,
  "nbformat_minor": 2
}