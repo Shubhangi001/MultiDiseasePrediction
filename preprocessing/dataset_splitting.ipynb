{
  "cells": [
    {
      "cell_type": "code",
      "source": [
        "from google.colab import drive\n",
        "drive.mount('/content/gdrive')"
      ],
      "metadata": {
        "colab": {
          "base_uri": "https://localhost:8080/"
        },
        "id": "1SDtD9uUhQzj",
        "outputId": "3ae2d789-df3a-4558-effe-0c91502ed92d"
      },
      "execution_count": null,
      "outputs": [
        {
          "output_type": "stream",
          "name": "stdout",
          "text": [
            "Mounted at /content/gdrive\n"
          ]
        }
      ]
    },
    {
      "cell_type": "code",
      "source": [
        "import os\n",
        "os.chdir('/content/gdrive/MyDrive/kaggle')"
      ],
      "metadata": {
        "id": "35OR8LMLrjGs"
      },
      "execution_count": null,
      "outputs": []
    },
    {
      "cell_type": "code",
      "source": [
        "os.makedirs('./output')\n",
        "os.makedirs('./output/train')\n",
        "os.makedirs('./output/val')\n",
        "os.makedirs('./output/test')\n",
        "os.listdir('./output')"
      ],
      "metadata": {
        "colab": {
          "base_uri": "https://localhost:8080/"
        },
        "id": "SYr_4vHScv2x",
        "outputId": "9f3ffa69-b191-428b-8869-f726127bd08a"
      },
      "execution_count": null,
      "outputs": [
        {
          "output_type": "execute_result",
          "data": {
            "text/plain": [
              "['train', 'val', 'test']"
            ]
          },
          "metadata": {},
          "execution_count": 3
        }
      ]
    },
    {
      "cell_type": "code",
      "source": [
        "import shutil\n",
        "import random\n",
        "import math\n",
        "import numpy as np\n"
      ],
      "metadata": {
        "id": "PG2R1lDIc7wm"
      },
      "execution_count": null,
      "outputs": []
    },
    {
      "cell_type": "code",
      "source": [
        "root_dir = '/content/gdrive/MyDrive/kaggle/chest_xray'\n",
        "classes = ['CARDIOMEGALY', 'COVID', 'NORMAL', 'PNEUMONIA', 'PNEUMOTHORAX', 'TUBERCULOSIS']"
      ],
      "metadata": {
        "id": "IJk9oCBRc8-b"
      },
      "execution_count": null,
      "outputs": []
    },
    {
      "cell_type": "code",
      "source": [
        "for clss in classes:\n",
        "  print('------------' + clss + '-------------')\n",
        "  dirtry = root_dir + '/' + clss\n",
        "  files = os.listdir(dirtry)\n",
        "  np.random.shuffle(files)\n",
        "  base_outdir = '/content/gdrive/MyDrive/kaggle/output/'\n",
        "\n",
        "  for folder in ['train', 'val', 'test']:\n",
        "      target_dir = base_outdir + folder\n",
        "      os.makedirs(target_dir + '/' + clss)\n",
        "      target_class = target_dir + '/' + clss\n",
        "\n",
        "      if folder == 'train':\n",
        "          images_to_pass = files[: math.floor(0.8*len(files))]\n",
        "          for img in images_to_pass:\n",
        "              img = dirtry + '/' + img\n",
        "              shutil.copy(img, target_class)\n",
        "      elif folder == 'val':\n",
        "          images_to_pass = files[math.floor(0.8*len(files)): math.floor(0.9*len(files))]\n",
        "          for img in images_to_pass:\n",
        "              img = dirtry + '/' + img\n",
        "              shutil.copy(img, target_class)\n",
        "      else:\n",
        "          images_to_pass = files[math.floor(0.9*len(files)):]\n",
        "          for img in images_to_pass:\n",
        "              img = dirtry + '/' + img\n",
        "              shutil.copy(img, target_class)\n",
        "    \n",
        "\n"
      ],
      "metadata": {
        "colab": {
          "base_uri": "https://localhost:8080/"
        },
        "id": "_5CF3ZfTdd5w",
        "outputId": "74215af7-289e-4104-ec94-8ef16b6e6b6f"
      },
      "execution_count": null,
      "outputs": [
        {
          "output_type": "stream",
          "name": "stdout",
          "text": [
            "------------CARDIOMEGALY-------------\n",
            "------------COVID-------------\n",
            "------------NORMAL-------------\n",
            "------------PNEUMONIA-------------\n",
            "------------PNEUMOTHORAX-------------\n",
            "------------TUBERCULOSIS-------------\n"
          ]
        }
      ]
    },
    {
      "cell_type": "code",
      "source": [
        "val_sum = 0\n",
        "for flowr in os.listdir('./output/val'):\n",
        "  lnk = './output/val/' + flowr\n",
        "  val_sum += len(os.listdir(lnk))\n",
        "\n",
        "train_sum = 0\n",
        "for flowr in os.listdir('./output/train'):\n",
        "  lnk = './output/train/' + flowr\n",
        "  train_sum += len(os.listdir(lnk))\n",
        "\n",
        "test_sum = 0\n",
        "for flowr in os.listdir('./output/test'):\n",
        "  lnk = './output/test/' + flowr\n",
        "  test_sum += len(os.listdir(lnk))\n",
        "\n",
        "print(val_sum)\n",
        "print(train_sum)\n",
        "print(test_sum)"
      ],
      "metadata": {
        "colab": {
          "base_uri": "https://localhost:8080/"
        },
        "id": "fi7hdyZMeZRH",
        "outputId": "ba1d6b46-104e-4939-da55-1a1f89540249"
      },
      "execution_count": null,
      "outputs": [
        {
          "output_type": "stream",
          "name": "stdout",
          "text": [
            "1962\n",
            "15706\n",
            "1966\n"
          ]
        }
      ]
    },
    {
      "cell_type": "markdown",
      "source": [
        "#**Dataset description:**\n",
        "\n",
        "##Disease (class) split in data:\n",
        "\n",
        "Total xray images: 19000\n",
        "\n",
        "CARDIOMEGALY: 2784\n",
        "\n",
        "COVID: 1525\n",
        "\n",
        "NORMAL: 6842\n",
        "\n",
        "PNEUMONIA: 4839\n",
        "\n",
        "PNEUMOTHORAX: 2959\n",
        "\n",
        "TUBERCULOSIS: 700\n",
        "\n",
        "##Test, Train and Validation split:\n",
        "\n",
        "Train: 15706\n",
        "\n",
        "Test: 1966\n",
        "\n",
        "Validation: 1962\n"
      ],
      "metadata": {
        "id": "PjRi_blAAXyg"
      }
    }
  ],
  "metadata": {
    "colab": {
      "provenance": []
    },
    "kernelspec": {
      "display_name": "Python 3",
      "name": "python3"
    },
    "language_info": {
      "name": "python"
    }
  },
  "nbformat": 4,
  "nbformat_minor": 0
}